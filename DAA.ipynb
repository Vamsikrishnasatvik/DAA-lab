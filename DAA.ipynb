{
 "cells": [
  {
   "cell_type": "code",
   "execution_count": 1,
   "id": "390e20a3",
   "metadata": {},
   "outputs": [
    {
     "name": "stdout",
     "output_type": "stream",
     "text": [
      "Sorted array is: [0, 0, 0, 0, 0, 0, 1, 1, 1, 1, 2, 2, 2]\n"
     ]
    }
   ],
   "source": [
    "def selection_sort(arr):\n",
    "    n = len(arr)\n",
    "\n",
    "    for i in range(n):\n",
    "        \n",
    "        min_index = i\n",
    "        for j in range(i + 1, n):\n",
    "            if arr[j] < arr[min_index]:\n",
    "                min_index = j\n",
    "\n",
    "        \n",
    "        arr[i], arr[min_index] = arr[min_index], arr[i]\n",
    "\n",
    "\n",
    "my_list = [1,1,0,0,2,2,0,0,1,0,2,0,1]\n",
    "selection_sort(my_list)\n",
    "print(\"Sorted array is:\", my_list)\n"
   ]
  },
  {
   "cell_type": "code",
   "execution_count": 10,
   "id": "1f5facb8",
   "metadata": {},
   "outputs": [
    {
     "name": "stdout",
     "output_type": "stream",
     "text": [
      "Sorted array: [0, 0, 0, 0, 0, 0, 1, 1, 1, 1, 2, 2, 2]\n"
     ]
    }
   ],
   "source": [
    "def bubbleSort(arr):\n",
    "    n = len(arr)\n",
    "    \n",
    "    for i in range(n):\n",
    "        swapped = False\n",
    "        for j in range(0, n-i-1):\n",
    "            if arr[j] > arr[j+1]:\n",
    "                arr[j], arr[j+1] = arr[j+1], arr[j]\n",
    "                swapped = True\n",
    "        if not swapped:\n",
    "            break\n",
    "            \n",
    "arr = [1, 1, 0, 0, 2, 2, 0, 0,1,0,2,0,1]\n",
    "bubbleSort(arr)\n",
    "\n",
    "print(\"Sorted array:\", arr)\n"
   ]
  },
  {
   "cell_type": "code",
   "execution_count": 12,
   "id": "c97eae58",
   "metadata": {},
   "outputs": [
    {
     "name": "stdout",
     "output_type": "stream",
     "text": [
      "Sorted name:   KPSaghiimnnrtuu\n"
     ]
    }
   ],
   "source": [
    "def bubbleSort(name):\n",
    "    name_list = list(name)\n",
    "    n = len(name_list)\n",
    "    \n",
    "    for i in range(n):\n",
    "        swapped = False\n",
    "        \n",
    "        for j in range(0, n-i-1):\n",
    "            if name_list[j] > name_list[j+1]:\n",
    "                name_list[j], name_list[j+1] = name_list[j+1], name_list[j]\n",
    "                swapped = True\n",
    "        \n",
    "        if not swapped:\n",
    "            break\n",
    "    \n",
    "    return ''.join(name_list)\n",
    "\n",
    "name = \"Punit Kumar Singh\"\n",
    "sorted_name = bubbleSort(name)\n",
    "print(\"Sorted name:\", sorted_name)\n"
   ]
  },
  {
   "cell_type": "code",
   "execution_count": 13,
   "id": "4183e859",
   "metadata": {
    "scrolled": true
   },
   "outputs": [
    {
     "name": "stdout",
     "output_type": "stream",
     "text": [
      "Sorted name:   aghiikmnnprstuu\n"
     ]
    }
   ],
   "source": [
    "def bubbleSort(name):\n",
    "    name_list = list(name)\n",
    "    n = len(name_list)\n",
    "    \n",
    "    for i in range(n):\n",
    "        swapped = False\n",
    "        \n",
    "        for j in range(0, n-i-1):\n",
    "            if name_list[j] > name_list[j+1]:\n",
    "                name_list[j], name_list[j+1] = name_list[j+1], name_list[j]\n",
    "                swapped = True\n",
    "        \n",
    "        if not swapped:\n",
    "            break\n",
    "    \n",
    "    return ''.join(name_list)\n",
    "\n",
    "name = \"punit kumar singh\"\n",
    "sorted_name = bubbleSort(name)\n",
    "print(\"Sorted name:\", sorted_name)\n"
   ]
  },
  {
   "cell_type": "code",
   "execution_count": 7,
   "id": "bd9ae670",
   "metadata": {},
   "outputs": [
    {
     "name": "stdout",
     "output_type": "stream",
     "text": [
      "True\n"
     ]
    }
   ],
   "source": [
    "class Node:\n",
    "    def __init__ (self, value):\n",
    "        self.value = value\n",
    "        self.next = None\n",
    "\n",
    "def has_cycle(head):\n",
    "    if head is None or head.next is None:\n",
    "        return False  \n",
    "    \n",
    "    slow = head\n",
    "    fast = head\n",
    "    \n",
    "    while fast is not None and fast.next is not None:\n",
    "        slow = slow.next\n",
    "        fast = fast.next.next\n",
    "        \n",
    "        if slow == fast:\n",
    "            return True  \n",
    "    \n",
    "    return False\n",
    "\n",
    "node1 = Node(1)\n",
    "node2 = Node(2)\n",
    "node3 = Node(3)\n",
    "node4 = Node(4)\n",
    "\n",
    "node1.next = node2\n",
    "node2.next = node3\n",
    "node3.next = node4\n",
    "node4.next = node2\n",
    "\n",
    "\n",
    "print(has_cycle(node1)) \n"
   ]
  },
  {
   "cell_type": "code",
   "execution_count": 5,
   "id": "8d9a24ca",
   "metadata": {},
   "outputs": [
    {
     "name": "stdout",
     "output_type": "stream",
     "text": [
      "[1, 12, 11, 10]\n"
     ]
    }
   ],
   "source": [
    "def remove_duplicates(input):\n",
    "    if not input:\n",
    "        return [] \n",
    "\n",
    "    unique = []\n",
    "\n",
    "    for item in input:\n",
    "        if item not in unique:\n",
    "            unique.append(item)\n",
    "\n",
    "    return unique\n",
    "\n",
    "input = [1,12,11,10,11,1]\n",
    "result = remove_duplicates(input)\n",
    "print(result) \n"
   ]
  },
  {
   "cell_type": "code",
   "execution_count": null,
   "id": "4fa79080",
   "metadata": {},
   "outputs": [],
   "source": []
  },
  {
   "cell_type": "code",
   "execution_count": 3,
   "id": "5c9d6aa0",
   "metadata": {},
   "outputs": [
    {
     "name": "stdout",
     "output_type": "stream",
     "text": [
      "mom is a palindrome.\n"
     ]
    }
   ],
   "source": [
    "def is_palindrome(s):\n",
    "    \n",
    "    s = s.replace(\" \", \"\").lower()\n",
    "    \n",
    "    return s == s[::-1]\n",
    "\n",
    "input_string = \"mom\"\n",
    "if is_palindrome(input_string):\n",
    "    print(f\"{input_string} is a palindrome.\")\n",
    "else:\n",
    "    print(f\"{input_string} is not a palindrome.\")\n"
   ]
  },
  {
   "cell_type": "code",
   "execution_count": 40,
   "id": "aa583b5d",
   "metadata": {},
   "outputs": [
    {
     "name": "stdout",
     "output_type": "stream",
     "text": [
      "[[ 1  3  2]\n",
      " [ 9  4 12]\n",
      " [ 6  8 18]]\n",
      "[ 3  9 12  6 18]\n",
      "34992\n",
      "product is greater than 50.\n"
     ]
    }
   ],
   "source": [
    "matrix = np.array([[1, 3, 2], [9, 4, 12], [6, 8, 18]])\n",
    "print(matrix)\n",
    "\n",
    "matrix = np.where(matrix % 3 == 0)\n",
    "\n",
    "print(multiples_of_3)\n",
    "\n",
    "print(product_of_multiples)\n",
    "\n",
    "is_greater_than_50 = product_of_multiples> 50\n",
    "\n",
    "if is_greater_than_50:\n",
    "    print(\"product is greater than 50.\")\n",
    "else:\n",
    "    print(\"product is not greater than 50.\")\n",
    "\n"
   ]
  },
  {
   "cell_type": "code",
   "execution_count": 57,
   "id": "0df37fa6",
   "metadata": {},
   "outputs": [
    {
     "name": "stdout",
     "output_type": "stream",
     "text": [
      "M*M=M\n",
      "[[ 2 -2 -4]\n",
      " [-1  3  4]\n",
      " [ 1 -2 -3]]\n"
     ]
    }
   ],
   "source": [
    "import numpy as np\n",
    "\n",
    "M1 = np.array([[2,-2,-4],\n",
    "               [-1, 3, 4],\n",
    "               [1, -2, -3]])\n",
    "\n",
    "M2 = np.array([[2,-2,-4],\n",
    "              [-1, 3, 4],\n",
    "              [1, -2, -3]])\n",
    "\n",
    "M = np.dot(matrix1, matrix2)\n",
    "\n",
    "\n",
    "print(\"M*M=M\")\n",
    "print(M)\n"
   ]
  },
  {
   "cell_type": "code",
   "execution_count": 61,
   "id": "7f196e88",
   "metadata": {},
   "outputs": [
    {
     "name": "stdout",
     "output_type": "stream",
     "text": [
      "[3, 6, 9]\n",
      "[2, 5, 8]\n",
      "[1, 4, 7]\n"
     ]
    }
   ],
   "source": [
    "original_matrix = [[1, 2, 3],\n",
    "                   [4, 5, 6],\n",
    "                   [7, 8, 9]]\n",
    "\n",
    "transposed_matrix = [[original_matrix[j][i] for j in range(len(original_matrix))] for i in range(len(original_matrix[0]))]\n",
    "\n",
    "rotated_matrix = transposed_matrix[::-1]\n",
    "\n",
    "for row in rotated_matrix:\n",
    "    print(row)\n"
   ]
  },
  {
   "cell_type": "code",
   "execution_count": 3,
   "id": "559434f0",
   "metadata": {},
   "outputs": [
    {
     "name": "stdout",
     "output_type": "stream",
     "text": [
      "[(8, 1), (9, 1), (16, 1)]\n"
     ]
    }
   ],
   "source": [
    "def find_pairs(a):\n",
    "    pairs = []\n",
    "    for i in range(len(a)):\n",
    "        for j in range(i + 1, len(a)):\n",
    "            if a[i] > a[j]:\n",
    "                pairs.append((a[i], a[j]))\n",
    "    return pairs\n",
    "\n",
    "a = [8, 9, 16, 1]\n",
    "result = find_pairs(a)\n",
    "      print(result)\n"
   ]
  },
  {
   "cell_type": "code",
   "execution_count": 11,
   "id": "6580252e",
   "metadata": {},
   "outputs": [
    {
     "name": "stdout",
     "output_type": "stream",
     "text": [
      "The trees are not identical.\n"
     ]
    }
   ],
   "source": [
    "class TreeNode:\n",
    "    def __init__(self, value):\n",
    "        self.value = value\n",
    "        self.left = None\n",
    "        self.right = None\n",
    "\n",
    "def are_identical_trees(root1, root2):\n",
    "    if root1 is None and root2 is None:\n",
    "        return True\n",
    "    if root1 is None or root2 is None:\n",
    "        return False\n",
    "    if root1.value != root2.value:\n",
    "        return False\n",
    "    \n",
    "    left_identical = are_identical_trees(root1.left, root2.left)\n",
    "    right_identical = are_identical_trees(root1.right, root2.right)\n",
    "    \n",
    "    return left_identical and right_identical\n",
    "\n",
    "root1 = TreeNode(1)\n",
    "root1.left = TreeNode(2)\n",
    "root1.right = TreeNode(3)\n",
    "root1.left.left = TreeNode(4)\n",
    "\n",
    "root2 = TreeNode(1)\n",
    "root2.left = TreeNode(2)\n",
    "root2.right = TreeNode(3)\n",
    "root2.left.left = TreeNode(6)\n",
    "\n",
    "if are_identical_trees(root1, root2):\n",
    "    print(\"The trees are identical.\")\n",
    "else:\n",
    "    print(\"The trees are not identical.\")\n"
   ]
  },
  {
   "cell_type": "code",
   "execution_count": 13,
   "id": "880671ec",
   "metadata": {},
   "outputs": [
    {
     "name": "stdout",
     "output_type": "stream",
     "text": [
      "eulb si yks ehT\n"
     ]
    }
   ],
   "source": [
    "def mirror_sentence(sentence):\n",
    "\n",
    "    words = sentence.split()\n",
    "\n",
    "    reversed_words = [word[::-1] for word in words]\n",
    "\n",
    "    mirrored_sentence = ' '.join(reversed_words[::-1])\n",
    "\n",
    "    return mirrored_sentence\n",
    "\n",
    "\n",
    "original_sentence = \"The sky is blue\"\n",
    "mirrored_sentence = mirror_sentence(original_sentence)\n",
    "print(mirrored_sentence)\n"
   ]
  },
  {
   "cell_type": "code",
   "execution_count": 12,
   "id": "79fb5de4",
   "metadata": {},
   "outputs": [
    {
     "name": "stdout",
     "output_type": "stream",
     "text": [
      "Row with the most 1s is row 3\n"
     ]
    }
   ],
   "source": [
    "matrix = [\n",
    "    [0, 0, 1, 0],\n",
    "    [1, 1, 0, 1],\n",
    "    [0, 0, 0, 0],\n",
    "    [1, 1, 1, 1]\n",
    "]\n",
    "\n",
    "max_row = 1\n",
    "max_ones = 1\n",
    "\n",
    "for i in range(len(matrix)):\n",
    "    ones_count = sum(matrix[i])\n",
    "    if ones_count > max_ones:\n",
    "        max_ones = ones_count\n",
    "        max_row = i\n",
    "\n",
    "print(\"Row with the most 1s is row\", max_row)\n"
   ]
  },
  {
   "cell_type": "code",
   "execution_count": 18,
   "id": "744e24bb",
   "metadata": {},
   "outputs": [
    {
     "name": "stdout",
     "output_type": "stream",
     "text": [
      "[1, 2, 3, 4, 5]\n",
      "[6, 7, 56, 9, 10]\n",
      "[11, 12, 13, 14, 15]\n"
     ]
    }
   ],
   "source": [
    "matrix = [\n",
    "    [1, 2, 3, 4, 5],\n",
    "    [6, 7, 8, 9, 10],\n",
    "    [11, 12, 13, 14, 15]\n",
    "]\n",
    "\n",
    "MR = len(matrix) // 2\n",
    "MC= len(matrix[0]) // 2\n",
    "\n",
    "MN = matrix[MR][MC]\n",
    "\n",
    "MS = sum(matrix[MR]) + sum(row[MC] for row in matrix) - MN\n",
    "\n",
    "matrix[MR][MC] = MS\n",
    "\n",
    "for row in matrix:\n",
    "    print(row)"
   ]
  },
  {
   "cell_type": "code",
   "execution_count": 22,
   "id": "e782b07f",
   "metadata": {},
   "outputs": [
    {
     "name": "stdout",
     "output_type": "stream",
     "text": [
      "Enter a phone number (digits only): 23\n",
      "The corresponding letters for the phone number are:\n",
      "AD\n",
      "AE\n",
      "AF\n",
      "BD\n",
      "BE\n",
      "BF\n",
      "CD\n",
      "CE\n",
      "CF\n"
     ]
    }
   ],
   "source": [
    "import itertools\n",
    "MATRIX = {'1':'00',\n",
    "    '2': 'ABC',\n",
    "    '3': 'DEF',\n",
    "    '4': 'GHI',\n",
    "    '5': 'JKL',\n",
    "    '6': 'MNO',\n",
    "    '7': 'PQR',\n",
    "    '8': 'STU',\n",
    "    '9': 'VWZ',\n",
    "}\n",
    "\n",
    "def number_to_letters(number):\n",
    "    letters = []\n",
    "    for digit in number:\n",
    "        if digit in MATRIX:\n",
    "            letters.append(MATRIX[digit])\n",
    "    return letters\n",
    "\n",
    "phone_number = input(\"Enter a phone number (digits only): \")\n",
    "\n",
    "letters = number_to_letters(phone_number)\n",
    "\n",
    "if letters:\n",
    "    print(\"The corresponding letters for the phone number are:\")\n",
    "    for combination in itertools.product(*letters):\n",
    "        print(\"\".join(combination))\n",
    "else:\n",
    "    print(\"No valid letters found for the given phone number.\")\n"
   ]
  },
  {
   "cell_type": "code",
   "execution_count": 1,
   "id": "e88a5d0f",
   "metadata": {},
   "outputs": [
    {
     "name": "stdout",
     "output_type": "stream",
     "text": [
      "<function binary_tree at 0x0000021BB0E4A700>\n"
     ]
    }
   ],
   "source": [
    "class TreeNode:\n",
    "    def __init__(self, value):\n",
    "        self.value = value\n",
    "        self.left = None\n",
    "        self.right = None\n",
    "\n",
    "def binary_tree():\n",
    "    root = TreeNode(1)\n",
    "    root.left = TreeNode(2)\n",
    "    root.right = TreeNode(3)\n",
    "    root.left.left = TreeNode(4)\n",
    "    root.left.right = TreeNode(5)\n",
    "    root.right.left = TreeNode(6)\n",
    "    root.right.right = TreeNode(7)\n",
    "    root.left.left.left = TreeNode(8)\n",
    "    root.left.left.right = TreeNode(9)\n",
    "    root.left.left.left.left = TreeNode(10)\n",
    "    root.left.left.left.right = TreeNode(11)\n",
    "    root.left.left.right.left = TreeNode(12)\n",
    "    root.left.left.right.right = TreeNode(13)\n",
    "    root.left.left.left.right.right = TreeNode(14)\n",
    "    root.left.left.left.right.right.right = TreeNode(15)\n",
    "    return root\n",
    "\n",
    "print (binary_tree)"
   ]
  },
  {
   "cell_type": "code",
   "execution_count": 2,
   "id": "b3c4155e",
   "metadata": {},
   "outputs": [
    {
     "name": "stdout",
     "output_type": "stream",
     "text": [
      "[1, 1, 1, 1]\n",
      "[1, 1, 0, 1]\n",
      "[1, 1, 1, 1]\n"
     ]
    }
   ],
   "source": [
    "def update_boundary_to_1(matrix):\n",
    "    if not matrix:\n",
    "        return matrix\n",
    "    \n",
    "    num_rows = len(matrix)\n",
    "    num_cols = len(matrix[0])\n",
    "\n",
    "    for i in range(num_cols):\n",
    "        matrix[0][i] = 1\n",
    "        matrix[num_rows - 1][i] = 1\n",
    "\n",
    "    for i in range(1, num_rows - 1):\n",
    "        matrix[i][0] = 1\n",
    "        matrix[i][num_cols - 1] = 1\n",
    "\n",
    "    return matrix\n",
    "\n",
    "# Input matrix\n",
    "matrix = [\n",
    "    [0, 1, 1, 1],\n",
    "    [1, 1, 0, 1],\n",
    "    [1, 0, 0, 1]\n",
    "]\n",
    "\n",
    "updated_matrix = update_boundary_to_1(matrix)\n",
    "\n",
    "for row in updated_matrix:\n",
    "    print(row)\n"
   ]
  },
  {
   "cell_type": "code",
   "execution_count": null,
   "id": "1f7d3300",
   "metadata": {},
   "outputs": [],
   "source": []
  }
 ],
 "metadata": {
  "kernelspec": {
   "display_name": "Python 3 (ipykernel)",
   "language": "python",
   "name": "python3"
  },
  "language_info": {
   "codemirror_mode": {
    "name": "ipython",
    "version": 3
   },
   "file_extension": ".py",
   "mimetype": "text/x-python",
   "name": "python",
   "nbconvert_exporter": "python",
   "pygments_lexer": "ipython3",
   "version": "3.11.4"
  }
 },
 "nbformat": 4,
 "nbformat_minor": 5
}
